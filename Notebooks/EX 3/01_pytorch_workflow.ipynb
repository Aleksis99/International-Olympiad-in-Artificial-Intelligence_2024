{
 "cells": [
  {
   "cell_type": "markdown",
   "metadata": {
    "id": "OgYkrRCRec0r"
   },
   "source": [
    "# PyTorch Fundamentals\n",
    "\n"
   ]
  },
  {
   "cell_type": "code",
   "execution_count": 3,
   "metadata": {
    "colab": {
     "base_uri": "https://localhost:8080/",
     "height": 35
    },
    "id": "ZT_ikDC-ec0w",
    "outputId": "1f0b19d0-6e96-4cc9-b8e6-7adcb3f1da27"
   },
   "outputs": [
    {
     "data": {
      "text/plain": [
       "'2.1.0+cu121'"
      ]
     },
     "execution_count": 3,
     "metadata": {},
     "output_type": "execute_result"
    }
   ],
   "source": [
    "import torch\n",
    "from torch import nn\n",
    "import matplotlib.pyplot as plt\n",
    "import numpy as np\n",
    "torch.__version__"
   ]
  },
  {
   "cell_type": "markdown",
   "metadata": {
    "id": "ci_-geIdec0w"
   },
   "source": [
    "## Data (preparing and loading)"
   ]
  },
  {
   "cell_type": "code",
   "execution_count": 2,
   "metadata": {
    "colab": {
     "base_uri": "https://localhost:8080/"
    },
    "id": "HmZWVNjGec0x",
    "outputId": "ef7c9d50-31d6-47b6-add9-2cd51694298f"
   },
   "outputs": [
    {
     "data": {
      "text/plain": [
       "(tensor([[0.0000],\n",
       "         [0.0200],\n",
       "         [0.0400],\n",
       "         [0.0600],\n",
       "         [0.0800],\n",
       "         [0.1000],\n",
       "         [0.1200],\n",
       "         [0.1400],\n",
       "         [0.1600],\n",
       "         [0.1800]]),\n",
       " tensor([[0.3000],\n",
       "         [0.3140],\n",
       "         [0.3280],\n",
       "         [0.3420],\n",
       "         [0.3560],\n",
       "         [0.3700],\n",
       "         [0.3840],\n",
       "         [0.3980],\n",
       "         [0.4120],\n",
       "         [0.4260]]))"
      ]
     },
     "execution_count": 2,
     "metadata": {},
     "output_type": "execute_result"
    }
   ],
   "source": [
    "# Create *known* parameters\n",
    "weight = 0.7\n",
    "bias = 0.3\n",
    "\n",
    "# Create data\n",
    "start = 0\n",
    "end = 1\n",
    "step = 0.02\n",
    "X = torch.arange(start, end, step).unsqueeze(dim=1)\n",
    "y = weight * X + bias\n",
    "\n",
    "X[:10], y[:10]"
   ]
  },
  {
   "cell_type": "markdown",
   "metadata": {
    "id": "YApM7diprjP0"
   },
   "source": [
    "### Split data into training and test sets "
   ]
  },
  {
   "cell_type": "code",
   "execution_count": 3,
   "metadata": {
    "colab": {
     "base_uri": "https://localhost:8080/"
    },
    "id": "BpyB7JgHec0y",
    "outputId": "a859f5c1-37ed-4a9a-b139-20a1107077ed"
   },
   "outputs": [
    {
     "data": {
      "text/plain": [
       "(40, 40, 10, 10)"
      ]
     },
     "execution_count": 3,
     "metadata": {},
     "output_type": "execute_result"
    }
   ],
   "source": [
    "# Create train/test split\n",
    "train_split = int(0.8 * len(X)) # 80% of data used for training set, 20% for testing \n",
    "X_train, y_train = X[:train_split], y[:train_split]\n",
    "X_test, y_test = X[train_split:], y[train_split:]\n",
    "\n",
    "len(X_train), len(y_train), len(X_test), len(y_test)"
   ]
  },
  {
   "cell_type": "code",
   "execution_count": 4,
   "metadata": {
    "id": "w9Ep0T-Dec0y"
   },
   "outputs": [],
   "source": [
    "def plot_predictions(train_data=X_train, \n",
    "                     train_labels=y_train, \n",
    "                     test_data=X_test, \n",
    "                     test_labels=y_test, \n",
    "                     predictions=None):\n",
    "  \"\"\"\n",
    "  Plots training data, test data and compares predictions.\n",
    "  \"\"\"\n",
    "  plt.figure(figsize=(10, 7))\n",
    "\n",
    "  # Plot training data in blue\n",
    "  plt.scatter(train_data, train_labels, c=\"b\", s=4, label=\"Training data\")\n",
    "  \n",
    "  # Plot test data in green\n",
    "  plt.scatter(test_data, test_labels, c=\"g\", s=4, label=\"Testing data\")\n",
    "\n",
    "  if predictions is not None:\n",
    "    # Plot the predictions in red (predictions were made on the test data)\n",
    "    plt.scatter(test_data, predictions, c=\"r\", s=4, label=\"Predictions\")\n",
    "\n",
    "  # Show the legend\n",
    "  plt.legend(prop={\"size\": 14});"
   ]
  },
  {
   "cell_type": "code",
   "execution_count": 5,
   "metadata": {
    "colab": {
     "base_uri": "https://localhost:8080/",
     "height": 428
    },
    "id": "xTaIwydGec0z",
    "outputId": "0d02d134-f6de-4e6f-c904-b081c7d6b8b1"
   },
   "outputs": [
    {
     "data": {
      "image/png": "[encoded data removed]",
      "text/plain": [
       "<Figure size 1000x700 with 1 Axes>"
      ]
     },
     "metadata": {},
     "output_type": "display_data"
    }
   ],
   "source": [
    "plot_predictions();"
   ]
  },
  {
   "cell_type": "markdown",
   "metadata": {
    "id": "0eFsorRHec00"
   },
   "source": [
    "# Model initilization\n",
    "\n",
    "## Linear Regression\n",
    "\n",
    "$ \\hat{y} = x^\\top w + b$\n",
    "\n",
    "## Loss functions\n",
    "\n",
    "### Root mean squared error\n",
    "\n",
    "$ \\mathcal{L}_{RMSE} = \\sqrt{\\frac{1}{2 * N} \\sum_{i = 1}^N (y_{i}  - \\hat{y}_{i} ) ^ 2} $\n",
    "\n",
    "### Mean absolute error\n",
    "\n",
    "$ \\mathcal{L}_{MAE} = \\frac{1}{2 * N} \\sum_{i = 1}^N | y_{i}  - \\hat{y}_{i}| $\n",
    "\n",
    "## L1 reg\n",
    "\n",
    "$ \\mathcal{L}_{l1} = \\mathcal{L} +  \\frac{\\lambda}{2} \\sum_{j = 1}^M |w_j|$\n",
    "\n",
    "## L2 reg\n",
    "\n",
    "$ \\mathcal{L}_{l2} = \\mathcal{L} +  \\frac{\\lambda}{2} \\sum_{j = 1}^M w_j ^2$\n",
    "\n",
    "## Tasks\n",
    "1. Implement linear regression using the formulas above;\n",
    "2. Implement RMSE and MAE (you can use both for optimization)\n",
    "\n",
    "## Notes:\n",
    "1. The `nn.Module` registeres a forward pass hook based on whatever `forward` method you define. Do not forget to call the super constructor, as your `Module` will not work properly!\n",
    "2. You can later call it as a python function, e.g. `model(*args, **kwargs)`, based on your `forward` implementation.\n",
    "3. For the loss function you can either use your own implementation, or the one provided from PyTorch ([Losses](https://pytorch.org/docs/stable/_modules/torch/nn/modules/loss.html)).\n",
    "4. Do not use the `nn.Linear` to define your parameters for this assignment, albeit in practice it is more convinient!\n",
    "5. You'll most probabily need to check the `torch.nn.Parameter`'s documentation.\n"
   ]
  },
  {
   "cell_type": "code",
   "execution_count": 6,
   "metadata": {
    "id": "jhcUJBFuec00"
   },
   "outputs": [
    {
     "name": "stderr",
     "output_type": "stream",
     "text": [
      "c:\\Users\\MSI\\anaconda3\\lib\\site-packages\\huggingface_hub\\utils\\_runtime.py:184: UserWarning: Pydantic is installed but cannot be imported. Please check your installation. `huggingface_hub` will default to not using Pydantic. Error message: '{e}'\n",
      "  warnings.warn(\n"
     ]
    },
    {
     "data": {
      "text/plain": [
       "[Parameter containing:\n",
       " tensor([[-0.0966]], requires_grad=True),\n",
       " Parameter containing:\n",
       " tensor(0., requires_grad=True)]"
      ]
     },
     "execution_count": 6,
     "metadata": {},
     "output_type": "execute_result"
    }
   ],
   "source": [
    "class LinearRegression(nn.Module):\n",
    "\n",
    "  def __init__(self, features_size):\n",
    "    super(LinearRegression, self).__init__()\n",
    "\n",
    "    w = np.random.uniform(-1, 1, size=features_size).reshape(-1, 1).astype(np.float32)\n",
    "    self.w = torch.nn.Parameter(torch.tensor(w), requires_grad=True)\n",
    "    self.b = torch.nn.Parameter(torch.tensor(0.), requires_grad=True)\n",
    "\n",
    "  def forward(self, X):\n",
    "    y_hat = torch.mm(X, self.w) + self.b\n",
    "    return y_hat\n",
    "\n",
    "model = LinearRegression(X_train.shape[1])\n",
    "optimizer = torch.optim.SGD(model.parameters(), lr=0.01)\n",
    "\n",
    "torch.manual_seed(42)\n",
    "\n",
    "mse = nn.MSELoss()\n",
    "mae = nn.L1Loss()\n",
    "list(model.parameters())"
   ]
  },
  {
   "cell_type": "markdown",
   "metadata": {
    "id": "CNOmcQdSq34e"
   },
   "source": [
    "We can also get the state (what the model contains) of the model using [`.state_dict()`](https://pytorch.org/docs/stable/generated/torch.nn.Module.html#torch.nn.Module.state_dict)."
   ]
  },
  {
   "cell_type": "code",
   "execution_count": 7,
   "metadata": {
    "colab": {
     "base_uri": "https://localhost:8080/"
    },
    "id": "XC1N_1Qrec01",
    "outputId": "7e35b61c-371e-4d28-ae02-c1981afc1bbb"
   },
   "outputs": [
    {
     "data": {
      "text/plain": [
       "OrderedDict([('w', tensor([[-0.0966]])), ('b', tensor(0.))])"
      ]
     },
     "execution_count": 7,
     "metadata": {},
     "output_type": "execute_result"
    }
   ],
   "source": [
    "model.state_dict()"
   ]
  },
  {
   "cell_type": "code",
   "execution_count": 8,
   "metadata": {
    "id": "-ITlZgU5ec02"
   },
   "outputs": [],
   "source": [
    "with torch.inference_mode(): \n",
    "    y_preds = model(X_test)\n"
   ]
  },
  {
   "cell_type": "code",
   "execution_count": 9,
   "metadata": {
    "colab": {
     "base_uri": "https://localhost:8080/"
    },
    "id": "k4xCScCvec02",
    "outputId": "2ce37ea3-6bc4-4e50-91ef-dcf53277dde7"
   },
   "outputs": [
    {
     "name": "stdout",
     "output_type": "stream",
     "text": [
      "Number of testing samples: 10\n",
      "Number of predictions made: 10\n",
      "Predicted values:\n",
      "tensor([[-0.0773],\n",
      "        [-0.0792],\n",
      "        [-0.0811],\n",
      "        [-0.0831],\n",
      "        [-0.0850],\n",
      "        [-0.0869],\n",
      "        [-0.0889],\n",
      "        [-0.0908],\n",
      "        [-0.0927],\n",
      "        [-0.0947]])\n"
     ]
    }
   ],
   "source": [
    "print(f\"Number of testing samples: {len(X_test)}\") \n",
    "print(f\"Number of predictions made: {len(y_preds)}\")\n",
    "print(f\"Predicted values:\\n{y_preds}\")"
   ]
  },
  {
   "cell_type": "code",
   "execution_count": 10,
   "metadata": {
    "colab": {
     "base_uri": "https://localhost:8080/",
     "height": 428
    },
    "id": "pwjxLWZTec02",
    "outputId": "56bf8a4d-2365-4539-a8b7-9bfe606f5b93"
   },
   "outputs": [
    {
     "data": {
      "image/png": "[encoded data removed]",
      "text/plain": [
       "<Figure size 1000x700 with 1 Axes>"
      ]
     },
     "metadata": {},
     "output_type": "display_data"
    }
   ],
   "source": [
    "plot_predictions(predictions=y_preds)"
   ]
  },
  {
   "cell_type": "code",
   "execution_count": 11,
   "metadata": {
    "colab": {
     "base_uri": "https://localhost:8080/"
    },
    "id": "JLJWVANkhY3-",
    "outputId": "ed29f680-d66f-4bbd-b1b3-b35655ca4fec"
   },
   "outputs": [
    {
     "data": {
      "text/plain": [
       "tensor([[0.9373],\n",
       "        [0.9532],\n",
       "        [0.9691],\n",
       "        [0.9851],\n",
       "        [1.0010],\n",
       "        [1.0169],\n",
       "        [1.0329],\n",
       "        [1.0488],\n",
       "        [1.0647],\n",
       "        [1.0807]])"
      ]
     },
     "execution_count": 11,
     "metadata": {},
     "output_type": "execute_result"
    }
   ],
   "source": [
    "y_test - y_preds"
   ]
  },
  {
   "cell_type": "markdown",
   "metadata": {
    "id": "ZZpa-fXLec03"
   },
   "source": [
    "## Train model"
   ]
  },
  {
   "cell_type": "code",
   "execution_count": 12,
   "metadata": {
    "id": "P3T7hpNPec03"
   },
   "outputs": [],
   "source": [
    "# Create the loss function\n",
    "loss_fn = nn.L1Loss() # MAE loss is same as L1Loss\n",
    "\n",
    "# Create the optimizer\n",
    "optimizer = torch.optim.AdamW(params=model.parameters(), # parameters of target model to optimize\n",
    "                            lr=0.01) # learning rate (how much the optimizer should change parameters at each step, higher=more (less stable), lower=less (might take a long time))"
   ]
  },
  {
   "cell_type": "code",
   "execution_count": 13,
   "metadata": {
    "colab": {
     "base_uri": "https://localhost:8080/"
    },
    "id": "k1DfhyJ7ec03",
    "outputId": "333f9780-c103-4e81-95da-9f721c80b617"
   },
   "outputs": [
    {
     "name": "stdout",
     "output_type": "stream",
     "text": [
      "Epoch: 0 | MAE Train Loss: 0.6106702089309692 | MAE Test Loss: 0.9900566935539246 \n",
      "Epoch: 10 | MAE Train Loss: 0.4716951251029968 | MAE Test Loss: 0.8010748028755188 \n",
      "Epoch: 20 | MAE Train Loss: 0.3328588902950287 | MAE Test Loss: 0.6122816801071167 \n",
      "Epoch: 30 | MAE Train Loss: 0.19416147470474243 | MAE Test Loss: 0.4236772656440735 \n",
      "Epoch: 40 | MAE Train Loss: 0.0917767658829689 | MAE Test Loss: 0.2447790652513504 \n",
      "Epoch: 50 | MAE Train Loss: 0.0659845843911171 | MAE Test Loss: 0.11585287749767303 \n",
      "Epoch: 60 | MAE Train Loss: 0.06485766917467117 | MAE Test Loss: 0.08187513798475266 \n",
      "Epoch: 70 | MAE Train Loss: 0.051571913063526154 | MAE Test Loss: 0.10491011291742325 \n",
      "Epoch: 80 | MAE Train Loss: 0.0431724488735199 | MAE Test Loss: 0.10430805385112762 \n",
      "Epoch: 90 | MAE Train Loss: 0.032869935035705566 | MAE Test Loss: 0.0705069750547409 \n"
     ]
    }
   ],
   "source": [
    "torch.manual_seed(42)\n",
    "\n",
    "# Set the number of epochs (how many times the model will pass over the training data)\n",
    "epochs = 100\n",
    "\n",
    "# Create empty loss lists to track values\n",
    "train_loss_values = []\n",
    "test_loss_values = []\n",
    "epoch_count = []\n",
    "\n",
    "for epoch in range(epochs):\n",
    "    ### Training\n",
    "\n",
    "    # Put model in training mode (this is the default state of a model)\n",
    "    model.train()\n",
    "\n",
    "    # 1. Forward pass on train data using the forward() method inside \n",
    "    y_pred = model(X_train)\n",
    "    # print(y_pred)\n",
    "\n",
    "    # 2. Calculate the loss (how different are our models predictions to the ground truth)\n",
    "    loss = loss_fn(y_pred, y_train)\n",
    "\n",
    "    # 3. Zero grad of the optimizer\n",
    "    optimizer.zero_grad()\n",
    "\n",
    "    # 4. Loss backwards\n",
    "    loss.backward()\n",
    "\n",
    "    # 5. Progress the optimizer\n",
    "    optimizer.step()\n",
    "\n",
    "    ### Testing\n",
    "\n",
    "    # Put the model in evaluation mode\n",
    "    model.eval()\n",
    "\n",
    "    with torch.inference_mode():\n",
    "      # 1. Forward pass on test data\n",
    "      test_pred = model(X_test)\n",
    "\n",
    "      # 2. Caculate loss on test data\n",
    "      test_loss = loss_fn(test_pred, y_test.type(torch.float)) # predictions come in torch.float datatype, so comparisons need to be done with tensors of the same type\n",
    "\n",
    "      # Print out what's happening\n",
    "      if epoch % 10 == 0:\n",
    "            epoch_count.append(epoch)\n",
    "            train_loss_values.append(loss.detach().numpy())\n",
    "            test_loss_values.append(test_loss.detach().numpy())\n",
    "            print(f\"Epoch: {epoch} | MAE Train Loss: {loss} | MAE Test Loss: {test_loss} \")"
   ]
  },
  {
   "cell_type": "markdown",
   "metadata": {
    "id": "1krgBqXBdYHc"
   },
   "source": [
    "Oh would you look at that! Looks like our loss is going down with every epoch, let's plot it to find out."
   ]
  },
  {
   "cell_type": "code",
   "execution_count": 14,
   "metadata": {
    "colab": {
     "base_uri": "https://localhost:8080/",
     "height": 295
    },
    "id": "FPXfvPLkau72",
    "outputId": "2f6b88b4-4c8e-48ad-eb99-27abd941993d"
   },
   "outputs": [
    {
     "data": {
      "image/png": "[encoded data removed]",
      "text/plain": [
       "<Figure size 640x480 with 1 Axes>"
      ]
     },
     "metadata": {},
     "output_type": "display_data"
    }
   ],
   "source": [
    "# Plot the loss curves\n",
    "plt.plot(epoch_count, train_loss_values, label=\"Train loss\")\n",
    "plt.plot(epoch_count, test_loss_values, label=\"Test loss\")\n",
    "plt.title(\"Training and test loss curves\")\n",
    "plt.ylabel(\"Loss\")\n",
    "plt.xlabel(\"Epochs\")\n",
    "plt.legend();"
   ]
  },
  {
   "cell_type": "code",
   "execution_count": 15,
   "metadata": {
    "colab": {
     "base_uri": "https://localhost:8080/"
    },
    "id": "Ci0W7kn5ec04",
    "outputId": "2c27ba8b-e388-484e-c59e-464fdb53d73e"
   },
   "outputs": [
    {
     "name": "stdout",
     "output_type": "stream",
     "text": [
      "The model learned the following values for weights and bias:\n",
      "OrderedDict([('w', tensor([[0.5917]])), ('b', tensor(0.3517))])\n",
      "\n",
      "And the original values for weights and bias are:\n",
      "weights: 0.7, bias: 0.3\n"
     ]
    }
   ],
   "source": [
    "# Find our model's learned parameters\n",
    "print(\"The model learned the following values for weights and bias:\")\n",
    "print(model.state_dict())\n",
    "print(\"\\nAnd the original values for weights and bias are:\")\n",
    "print(f\"weights: {weight}, bias: {bias}\")"
   ]
  },
  {
   "cell_type": "code",
   "execution_count": 16,
   "metadata": {
    "colab": {
     "base_uri": "https://localhost:8080/"
    },
    "id": "xKKxSBVuec05",
    "outputId": "7a637fab-186e-4269-85a7-6dc28ee690e0"
   },
   "outputs": [
    {
     "data": {
      "text/plain": [
       "tensor([[0.8250],\n",
       "        [0.8369],\n",
       "        [0.8487],\n",
       "        [0.8605],\n",
       "        [0.8724],\n",
       "        [0.8842],\n",
       "        [0.8961],\n",
       "        [0.9079],\n",
       "        [0.9197],\n",
       "        [0.9316]])"
      ]
     },
     "execution_count": 16,
     "metadata": {},
     "output_type": "execute_result"
    }
   ],
   "source": [
    "model.eval()\n",
    "\n",
    "with torch.inference_mode():\n",
    "\n",
    "  y_preds = model(X_test)\n",
    "y_preds"
   ]
  },
  {
   "cell_type": "markdown",
   "metadata": {
    "id": "Cn21JvzmjbBO"
   },
   "source": [
    "Nice! We've made some predictions with our trained model, now how do they look?"
   ]
  },
  {
   "cell_type": "code",
   "execution_count": 17,
   "metadata": {
    "colab": {
     "base_uri": "https://localhost:8080/",
     "height": 428
    },
    "id": "b_kBqpCfec05",
    "outputId": "b2e3870b-dfdf-4dbc-877c-a940cb732859"
   },
   "outputs": [
    {
     "data": {
      "image/png": "[encoded data removed]",
      "text/plain": [
       "<Figure size 1000x700 with 1 Axes>"
      ]
     },
     "metadata": {},
     "output_type": "display_data"
    }
   ],
   "source": [
    "plot_predictions(predictions=y_preds)"
   ]
  },
  {
   "cell_type": "markdown",
   "metadata": {
    "id": "8NRng9aEec05"
   },
   "source": [
    "## Saving and loading a PyTorch model\n",
    "\n"
   ]
  },
  {
   "cell_type": "code",
   "execution_count": 18,
   "metadata": {
    "colab": {
     "base_uri": "https://localhost:8080/"
    },
    "id": "qsQhY2S2jv90",
    "outputId": "a897070c-a843-4a7c-a06e-e6406206412c"
   },
   "outputs": [
    {
     "name": "stdout",
     "output_type": "stream",
     "text": [
      "Saving model to: ./model\n"
     ]
    }
   ],
   "source": [
    "MODEL_PATH = \"./\"\n",
    "\n",
    "MODEL_NAME = \"model\"\n",
    "MODEL_SAVE_PATH = MODEL_PATH + MODEL_NAME\n",
    "\n",
    "print(f\"Saving model to: {MODEL_SAVE_PATH}\")\n",
    "torch.save(obj=model.state_dict(),\n",
    "           f=MODEL_SAVE_PATH) "
   ]
  },
  {
   "cell_type": "code",
   "execution_count": 19,
   "metadata": {
    "colab": {
     "base_uri": "https://localhost:8080/"
    },
    "id": "1xnh3cFDec06",
    "outputId": "7ef66bf8-122e-476a-ee86-b1c388d6167c"
   },
   "outputs": [
    {
     "data": {
      "text/plain": [
       "<All keys matched successfully>"
      ]
     },
     "execution_count": 19,
     "metadata": {},
     "output_type": "execute_result"
    }
   ],
   "source": [
    "# Instantiate a new instance of our model (this will be instantiated with random weights)\n",
    "loaded_model = LinearRegression(X_train.shape[1])\n",
    "\n",
    "# Load the state_dict of our saved model (this will update the new instance of our model with trained weights)\n",
    "loaded_model.load_state_dict(torch.load(f=MODEL_SAVE_PATH))"
   ]
  },
  {
   "cell_type": "code",
   "execution_count": 20,
   "metadata": {
    "id": "Ps-AuJqkec06"
   },
   "outputs": [],
   "source": [
    "# 1. Put the loaded model into evaluation mode\n",
    "loaded_model.eval()\n",
    "\n",
    "# 2. Use the inference mode context manager to make predictions\n",
    "with torch.inference_mode():\n",
    "    loaded_model_preds = loaded_model(X_test) # perform a forward pass on the test data with the loaded model"
   ]
  },
  {
   "cell_type": "code",
   "execution_count": 21,
   "metadata": {
    "colab": {
     "base_uri": "https://localhost:8080/"
    },
    "id": "il9gqj6Nec06",
    "outputId": "56210de9-9888-4e90-d2e7-6cd0de47f823"
   },
   "outputs": [
    {
     "data": {
      "text/plain": [
       "tensor([[True],\n",
       "        [True],\n",
       "        [True],\n",
       "        [True],\n",
       "        [True],\n",
       "        [True],\n",
       "        [True],\n",
       "        [True],\n",
       "        [True],\n",
       "        [True]])"
      ]
     },
     "execution_count": 21,
     "metadata": {},
     "output_type": "execute_result"
    }
   ],
   "source": [
    "y_preds == loaded_model_preds"
   ]
  },
  {
   "cell_type": "code",
   "execution_count": 22,
   "metadata": {
    "colab": {
     "base_uri": "https://localhost:8080/",
     "height": 35
    },
    "id": "8hZ3CWhAIpUF",
    "outputId": "60b4e98b-8d83-4573-cbe2-131df190b223"
   },
   "outputs": [
    {
     "data": {
      "text/plain": [
       "'2.1.0+cu121'"
      ]
     },
     "execution_count": 22,
     "metadata": {},
     "output_type": "execute_result"
    }
   ],
   "source": [
    "# Import PyTorch and matplotlib\n",
    "import torch\n",
    "from torch import nn # nn contains all of PyTorch's building blocks for neural networks\n",
    "import matplotlib.pyplot as plt\n",
    "\n",
    "# Check PyTorch version\n",
    "torch.__version__"
   ]
  },
  {
   "cell_type": "code",
   "execution_count": 23,
   "metadata": {
    "colab": {
     "base_uri": "https://localhost:8080/"
    },
    "id": "sx2Zpb5sec06",
    "outputId": "88323445-9070-4b3d-a62a-3d924d8d6898"
   },
   "outputs": [
    {
     "name": "stdout",
     "output_type": "stream",
     "text": [
      "Using device: cuda\n"
     ]
    }
   ],
   "source": [
    "# Setup device agnostic code\n",
    "device = \"cuda\" if torch.cuda.is_available() else \"cpu\"\n",
    "print(f\"Using device: {device}\")"
   ]
  },
  {
   "cell_type": "markdown",
   "metadata": {
    "id": "INW8-McyLeFE"
   },
   "source": [
    "Excellent, let's visualize them to make sure they look okay."
   ]
  },
  {
   "cell_type": "code",
   "execution_count": 24,
   "metadata": {
    "colab": {
     "base_uri": "https://localhost:8080/",
     "height": 428
    },
    "id": "gxhc0zCdec07",
    "outputId": "cc3cb921-0d25-4cec-d681-da102547bdb9"
   },
   "outputs": [
    {
     "data": {
      "image/png": "[encoded data removed]",
      "text/plain": [
       "<Figure size 1000x700 with 1 Axes>"
      ]
     },
     "metadata": {},
     "output_type": "display_data"
    }
   ],
   "source": [
    "# Note: If you've reset your runtime, this function won't work, \n",
    "# you'll have to rerun the cell above where it's instantiated.\n",
    "plot_predictions(X_train, y_train, X_test, y_test)"
   ]
  },
  {
   "cell_type": "code",
   "execution_count": 25,
   "metadata": {
    "colab": {
     "base_uri": "https://localhost:8080/"
    },
    "id": "6iOwqtFqec08",
    "outputId": "f7aabd1d-55a7-4f1e-c9b9-9db73d178aef"
   },
   "outputs": [
    {
     "data": {
      "text/plain": [
       "(LinearRegressionV2(\n",
       "   (linear_layer): Linear(in_features=1, out_features=1, bias=True)\n",
       " ),\n",
       " OrderedDict([('linear_layer.weight', tensor([[0.7645]])),\n",
       "              ('linear_layer.bias', tensor([0.8300]))]))"
      ]
     },
     "execution_count": 25,
     "metadata": {},
     "output_type": "execute_result"
    }
   ],
   "source": [
    "# Subclass nn.Module to make our model\n",
    "class LinearRegressionV2(nn.Module):\n",
    "    def __init__(self):\n",
    "        super().__init__()\n",
    "        self.linear_layer = nn.Linear(in_features=1, \n",
    "                                      out_features=1)\n",
    "    \n",
    "    def forward(self, x: torch.Tensor) -> torch.Tensor:\n",
    "        return self.linear_layer(x)\n",
    "\n",
    "torch.manual_seed(42)\n",
    "model_1 = LinearRegressionV2()\n",
    "model_1, model_1.state_dict()"
   ]
  },
  {
   "cell_type": "code",
   "execution_count": 26,
   "metadata": {
    "colab": {
     "base_uri": "https://localhost:8080/"
    },
    "id": "HhCvYNpAec08",
    "outputId": "4d0d2c5f-4a9c-44a0-bda5-fd54d16cfa51"
   },
   "outputs": [
    {
     "data": {
      "text/plain": [
       "device(type='cpu')"
      ]
     },
     "execution_count": 26,
     "metadata": {},
     "output_type": "execute_result"
    }
   ],
   "source": [
    "next(model_1.parameters()).device"
   ]
  },
  {
   "cell_type": "code",
   "execution_count": 27,
   "metadata": {
    "colab": {
     "base_uri": "https://localhost:8080/"
    },
    "id": "JfTYec5Rec08",
    "outputId": "b0d331ba-56b9-4f18-f93d-de7965de41dd"
   },
   "outputs": [
    {
     "data": {
      "text/plain": [
       "device(type='cuda', index=0)"
      ]
     },
     "execution_count": 27,
     "metadata": {},
     "output_type": "execute_result"
    }
   ],
   "source": [
    "model_1.to(device) \n",
    "next(model_1.parameters()).device"
   ]
  },
  {
   "cell_type": "markdown",
   "metadata": {
    "id": "jwTeP_vkec08"
   },
   "source": [
    "### Training"
   ]
  },
  {
   "cell_type": "code",
   "execution_count": 28,
   "metadata": {
    "id": "ZRgqFKrNec09"
   },
   "outputs": [],
   "source": [
    "# Create loss function\n",
    "loss_fn = nn.L1Loss()\n",
    "\n",
    "# Create optimizer\n",
    "optimizer = torch.optim.AdamW(params=model_1.parameters(),\n",
    "                            lr=0.01)"
   ]
  },
  {
   "cell_type": "code",
   "execution_count": 29,
   "metadata": {
    "colab": {
     "base_uri": "https://localhost:8080/"
    },
    "id": "JDOHzX8lec09",
    "outputId": "23ee6dda-7145-463c-e684-d65ba6874757"
   },
   "outputs": [
    {
     "name": "stdout",
     "output_type": "stream",
     "text": [
      "Epoch: 0 | Train loss: 0.5551779866218567 | Test loss: 0.5683961510658264\n",
      "Epoch: 100 | Train loss: 0.014988399110734463 | Test loss: 0.02836630307137966\n",
      "Epoch: 200 | Train loss: 0.002427533967420459 | Test loss: 0.0032408477272838354\n",
      "Epoch: 300 | Train loss: 0.0014569759368896484 | Test loss: 0.0015379845863208175\n",
      "Epoch: 400 | Train loss: 0.0011451520258560777 | Test loss: 0.001745206187479198\n",
      "Epoch: 500 | Train loss: 0.0012770943576470017 | Test loss: 0.00029595496016554534\n",
      "Epoch: 600 | Train loss: 0.00023325905203819275 | Test loss: 0.002654093550518155\n",
      "Epoch: 700 | Train loss: 0.0014367826515808702 | Test loss: 0.001246458268724382\n",
      "Epoch: 800 | Train loss: 0.00023701861209701747 | Test loss: 6.196498725330457e-05\n",
      "Epoch: 900 | Train loss: 0.00048023610725067556 | Test loss: 0.0008219123119488358\n"
     ]
    }
   ],
   "source": [
    "torch.manual_seed(42)\n",
    "\n",
    "# Set the number of epochs \n",
    "epochs = 1000 \n",
    "\n",
    "# Put data on the available device\n",
    "# Without this, error will happen (not all model/data on device)\n",
    "X_train = X_train.to(device)\n",
    "X_test = X_test.to(device)\n",
    "y_train = y_train.to(device)\n",
    "y_test = y_test.to(device)\n",
    "\n",
    "for epoch in range(epochs):\n",
    "    ### Training\n",
    "    model_1.train() # train mode is on by default after construction\n",
    "\n",
    "    # 1. Forward pass\n",
    "    y_pred = model_1(X_train)\n",
    "\n",
    "    # 2. Calculate loss\n",
    "    loss = loss_fn(y_pred, y_train)\n",
    "\n",
    "    # 3. Zero grad optimizer\n",
    "    optimizer.zero_grad()\n",
    "\n",
    "    # 4. Loss backward\n",
    "    loss.backward()\n",
    "\n",
    "    # 5. Step the optimizer\n",
    "    optimizer.step()\n",
    "\n",
    "    ### Testing\n",
    "    model_1.eval() # put the model in evaluation mode for testing (inference)\n",
    "    # 1. Forward pass\n",
    "    with torch.inference_mode():\n",
    "        test_pred = model_1(X_test)\n",
    "    \n",
    "        # 2. Calculate the loss\n",
    "        test_loss = loss_fn(test_pred, y_test)\n",
    "\n",
    "    if epoch % 100 == 0:\n",
    "        print(f\"Epoch: {epoch} | Train loss: {loss} | Test loss: {test_loss}\")"
   ]
  },
  {
   "cell_type": "code",
   "execution_count": 30,
   "metadata": {
    "colab": {
     "base_uri": "https://localhost:8080/"
    },
    "id": "TP_tFn5rec09",
    "outputId": "53b6c53a-1bab-4f13-e09a-c9473200af39"
   },
   "outputs": [
    {
     "name": "stdout",
     "output_type": "stream",
     "text": [
      "The model learned the following values for weights and bias:\n",
      "OrderedDict([('linear_layer.weight', tensor([[0.7021]], device='cuda:0')),\n",
      "             ('linear_layer.bias', tensor([0.3015], device='cuda:0'))])\n",
      "\n",
      "And the original values for weights and bias are:\n",
      "weights: 0.7, bias: 0.3\n"
     ]
    }
   ],
   "source": [
    "from pprint import pprint \n",
    "print(\"The model learned the following values for weights and bias:\")\n",
    "pprint(model_1.state_dict())\n",
    "print(\"\\nAnd the original values for weights and bias are:\")\n",
    "print(f\"weights: {weight}, bias: {bias}\")"
   ]
  },
  {
   "cell_type": "code",
   "execution_count": 31,
   "metadata": {
    "colab": {
     "base_uri": "https://localhost:8080/"
    },
    "id": "ksqG5N5Iec09",
    "outputId": "a0d4a51f-e1d9-4038-fd8a-0bbf4386f36a"
   },
   "outputs": [
    {
     "data": {
      "text/plain": [
       "tensor([[0.8632],\n",
       "        [0.8772],\n",
       "        [0.8913],\n",
       "        [0.9053],\n",
       "        [0.9194],\n",
       "        [0.9334],\n",
       "        [0.9475],\n",
       "        [0.9615],\n",
       "        [0.9755],\n",
       "        [0.9896]], device='cuda:0')"
      ]
     },
     "execution_count": 31,
     "metadata": {},
     "output_type": "execute_result"
    }
   ],
   "source": [
    "# Turn model into evaluation mode\n",
    "model_1.eval()\n",
    "\n",
    "# Make predictions on the test data\n",
    "with torch.inference_mode():\n",
    "    y_preds = model_1(X_test)\n",
    "y_preds"
   ]
  },
  {
   "cell_type": "code",
   "execution_count": 32,
   "metadata": {
    "colab": {
     "base_uri": "https://localhost:8080/",
     "height": 428
    },
    "id": "Z4dmfr2bec09",
    "outputId": "dd68d5a7-1733-4385-c1cb-7d7b44085813"
   },
   "outputs": [
    {
     "data": {
      "image/png": "[encoded data removed]",
      "text/plain": [
       "<Figure size 1000x700 with 1 Axes>"
      ]
     },
     "metadata": {},
     "output_type": "display_data"
    }
   ],
   "source": [
    "plot_predictions(predictions=y_preds.cpu())"
   ]
  },
  {
   "cell_type": "code",
   "execution_count": 33,
   "metadata": {
    "colab": {
     "base_uri": "https://localhost:8080/"
    },
    "id": "DcQo4JqL7eSU",
    "outputId": "e43ada0c-c074-4b50-9207-fa01581b1d5f"
   },
   "outputs": [
    {
     "name": "stdout",
     "output_type": "stream",
     "text": [
      "Saving model to: ./model\n"
     ]
    }
   ],
   "source": [
    "MODEL_PATH = \"./\"\n",
    "\n",
    "MODEL_NAME = \"model\"\n",
    "MODEL_SAVE_PATH = MODEL_PATH + MODEL_NAME\n",
    "\n",
    "print(f\"Saving model to: {MODEL_SAVE_PATH}\")\n",
    "torch.save(obj=model_1.state_dict(), \n",
    "           f=MODEL_SAVE_PATH) "
   ]
  },
  {
   "cell_type": "code",
   "execution_count": 34,
   "metadata": {
    "colab": {
     "base_uri": "https://localhost:8080/"
    },
    "id": "jMnVHzf1ec0-",
    "outputId": "76f10046-cd42-4b39-a372-aa95227828e8"
   },
   "outputs": [
    {
     "name": "stdout",
     "output_type": "stream",
     "text": [
      "Loaded model:\n",
      "LinearRegressionV2(\n",
      "  (linear_layer): Linear(in_features=1, out_features=1, bias=True)\n",
      ")\n",
      "Model on device:\n",
      "cuda:0\n"
     ]
    }
   ],
   "source": [
    "loaded_model_1 = LinearRegressionV2()\n",
    "\n",
    "loaded_model_1.load_state_dict(torch.load(MODEL_SAVE_PATH))\n",
    "\n",
    "loaded_model_1.to(device)\n",
    "\n",
    "print(f\"Loaded model:\\n{loaded_model_1}\")\n",
    "print(f\"Model on device:\\n{next(loaded_model_1.parameters()).device}\")"
   ]
  },
  {
   "cell_type": "code",
   "execution_count": 35,
   "metadata": {
    "colab": {
     "base_uri": "https://localhost:8080/"
    },
    "id": "fYODT7ONec0_",
    "outputId": "c8184cd1-595a-43e4-8155-89dcecc4d0b0"
   },
   "outputs": [
    {
     "data": {
      "text/plain": [
       "tensor([[True],\n",
       "        [True],\n",
       "        [True],\n",
       "        [True],\n",
       "        [True],\n",
       "        [True],\n",
       "        [True],\n",
       "        [True],\n",
       "        [True],\n",
       "        [True]], device='cuda:0')"
      ]
     },
     "execution_count": 35,
     "metadata": {},
     "output_type": "execute_result"
    }
   ],
   "source": [
    "# Evaluate loaded model\n",
    "loaded_model_1.eval()\n",
    "with torch.inference_mode():\n",
    "    loaded_model_1_preds = loaded_model_1(X_test)\n",
    "y_preds == loaded_model_1_preds"
   ]
  }
 ],
 "metadata": {
  "accelerator": "GPU",
  "colab": {
   "collapsed_sections": [],
   "include_colab_link": true,
   "name": "01_pytorch_workflow.ipynb",
   "provenance": [],
   "toc_visible": true
  },
  "interpreter": {
   "hash": "3fbe1355223f7b2ffc113ba3ade6a2b520cadace5d5ec3e828c83ce02eb221bf"
  },
  "kernelspec": {
   "display_name": "Python 3 (ipykernel)",
   "language": "python",
   "name": "python3"
  },
  "language_info": {
   "codemirror_mode": {
    "name": "ipython",
    "version": 3
   },
   "file_extension": ".py",
   "mimetype": "text/x-python",
   "name": "python",
   "nbconvert_exporter": "python",
   "pygments_lexer": "ipython3",
   "version": "3.9.18"
  }
 },
 "nbformat": 4,
 "nbformat_minor": 4
}
